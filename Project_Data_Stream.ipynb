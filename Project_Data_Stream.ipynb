{
  "nbformat": 4,
  "nbformat_minor": 0,
  "metadata": {
    "colab": {
      "provenance": []
    },
    "kernelspec": {
      "name": "python3",
      "display_name": "Python 3"
    },
    "language_info": {
      "name": "python"
    }
  },
  "cells": [
    {
      "cell_type": "code",
      "source": [
        "!pip install yfinance\n",
        "!pip install numpy==1.23.5\n",
        "!pip install river"
      ],
      "metadata": {
        "id": "IQOiLhpOBn6X",
        "colab": {
          "base_uri": "https://localhost:8080/"
        },
        "outputId": "454140d9-daaf-4d26-b837-600231f84ec6"
      },
      "execution_count": 1,
      "outputs": [
        {
          "output_type": "stream",
          "name": "stdout",
          "text": [
            "Looking in indexes: https://pypi.org/simple, https://us-python.pkg.dev/colab-wheels/public/simple/\n",
            "Requirement already satisfied: yfinance in /usr/local/lib/python3.8/dist-packages (0.2.4)\n",
            "Requirement already satisfied: pytz>=2022.5 in /usr/local/lib/python3.8/dist-packages (from yfinance) (2022.7)\n",
            "Requirement already satisfied: lxml>=4.9.1 in /usr/local/lib/python3.8/dist-packages (from yfinance) (4.9.2)\n",
            "Requirement already satisfied: html5lib>=1.1 in /usr/local/lib/python3.8/dist-packages (from yfinance) (1.1)\n",
            "Requirement already satisfied: beautifulsoup4>=4.11.1 in /usr/local/lib/python3.8/dist-packages (from yfinance) (4.11.1)\n",
            "Requirement already satisfied: appdirs>=1.4.4 in /usr/local/lib/python3.8/dist-packages (from yfinance) (1.4.4)\n",
            "Requirement already satisfied: numpy>=1.16.5 in /usr/local/lib/python3.8/dist-packages (from yfinance) (1.23.5)\n",
            "Requirement already satisfied: multitasking>=0.0.7 in /usr/local/lib/python3.8/dist-packages (from yfinance) (0.0.11)\n",
            "Requirement already satisfied: cryptography>=3.3.2 in /usr/local/lib/python3.8/dist-packages (from yfinance) (39.0.0)\n",
            "Requirement already satisfied: pandas>=1.3.0 in /usr/local/lib/python3.8/dist-packages (from yfinance) (1.3.5)\n",
            "Requirement already satisfied: requests>=2.26 in /usr/local/lib/python3.8/dist-packages (from yfinance) (2.28.2)\n",
            "Requirement already satisfied: frozendict>=2.3.4 in /usr/local/lib/python3.8/dist-packages (from yfinance) (2.3.4)\n",
            "Requirement already satisfied: soupsieve>1.2 in /usr/local/lib/python3.8/dist-packages (from beautifulsoup4>=4.11.1->yfinance) (2.3.2.post1)\n",
            "Requirement already satisfied: cffi>=1.12 in /usr/local/lib/python3.8/dist-packages (from cryptography>=3.3.2->yfinance) (1.15.1)\n",
            "Requirement already satisfied: webencodings in /usr/local/lib/python3.8/dist-packages (from html5lib>=1.1->yfinance) (0.5.1)\n",
            "Requirement already satisfied: six>=1.9 in /usr/local/lib/python3.8/dist-packages (from html5lib>=1.1->yfinance) (1.15.0)\n",
            "Requirement already satisfied: python-dateutil>=2.7.3 in /usr/local/lib/python3.8/dist-packages (from pandas>=1.3.0->yfinance) (2.8.2)\n",
            "Requirement already satisfied: idna<4,>=2.5 in /usr/local/lib/python3.8/dist-packages (from requests>=2.26->yfinance) (2.10)\n",
            "Requirement already satisfied: charset-normalizer<4,>=2 in /usr/local/lib/python3.8/dist-packages (from requests>=2.26->yfinance) (2.1.1)\n",
            "Requirement already satisfied: urllib3<1.27,>=1.21.1 in /usr/local/lib/python3.8/dist-packages (from requests>=2.26->yfinance) (1.24.3)\n",
            "Requirement already satisfied: certifi>=2017.4.17 in /usr/local/lib/python3.8/dist-packages (from requests>=2.26->yfinance) (2022.12.7)\n",
            "Requirement already satisfied: pycparser in /usr/local/lib/python3.8/dist-packages (from cffi>=1.12->cryptography>=3.3.2->yfinance) (2.21)\n",
            "Looking in indexes: https://pypi.org/simple, https://us-python.pkg.dev/colab-wheels/public/simple/\n",
            "Requirement already satisfied: numpy==1.23.5 in /usr/local/lib/python3.8/dist-packages (1.23.5)\n",
            "Looking in indexes: https://pypi.org/simple, https://us-python.pkg.dev/colab-wheels/public/simple/\n",
            "Requirement already satisfied: river in /usr/local/lib/python3.8/dist-packages (0.14.0)\n",
            "Requirement already satisfied: numpy>=1.23.4 in /usr/local/lib/python3.8/dist-packages (from river) (1.23.5)\n",
            "Requirement already satisfied: pandas>=1.3 in /usr/local/lib/python3.8/dist-packages (from river) (1.3.5)\n",
            "Requirement already satisfied: scipy>=1.5 in /usr/local/lib/python3.8/dist-packages (from river) (1.10.0)\n",
            "Requirement already satisfied: python-dateutil>=2.7.3 in /usr/local/lib/python3.8/dist-packages (from pandas>=1.3->river) (2.8.2)\n",
            "Requirement already satisfied: pytz>=2017.3 in /usr/local/lib/python3.8/dist-packages (from pandas>=1.3->river) (2022.7)\n",
            "Requirement already satisfied: six>=1.5 in /usr/local/lib/python3.8/dist-packages (from python-dateutil>=2.7.3->pandas>=1.3->river) (1.15.0)\n"
          ]
        }
      ]
    },
    {
      "cell_type": "code",
      "source": [
        "import numpy as np\n",
        "np.__version__ "
      ],
      "metadata": {
        "colab": {
          "base_uri": "https://localhost:8080/",
          "height": 35
        },
        "id": "5dJPl7qgmy2o",
        "outputId": "545f7839-3681-4592-f6e5-54c2e88f920c"
      },
      "execution_count": 2,
      "outputs": [
        {
          "output_type": "execute_result",
          "data": {
            "text/plain": [
              "'1.23.5'"
            ],
            "application/vnd.google.colaboratory.intrinsic+json": {
              "type": "string"
            }
          },
          "metadata": {},
          "execution_count": 2
        }
      ]
    },
    {
      "cell_type": "code",
      "execution_count": 3,
      "metadata": {
        "id": "22hBJNbbAB2l"
      },
      "outputs": [],
      "source": [
        "import pandas as pd\n",
        "import yfinance as yf\n",
        "import matplotlib.pyplot as plt\n",
        " \n",
        "# Here We are getting Facebook financial information\n",
        "# We need to pass FB as argument for that\n",
        "ticker_list=[\"META\",\"BNP.PA\",\"BABA\",\"GAZP.ME\",\"2222.SR\",\"FCAU.VI\",\"^GSPC\"]\n",
        "dict_df={}\n",
        "for i in ticker_list: \n",
        "  tick = yf.Ticker(i)\n",
        "  #df=tick.history(period=\"max\")\n",
        "  df=tick.history(start=\"2015-01-05\")\n",
        "  df1 = df.drop([\"Dividends\",\"Stock Splits\"],axis=1)\n",
        "  df1[\"Mid\"] = (df1[\"High\"] + df1[\"Low\"])/2\n",
        "  df1[\"return\"]=df1[\"Close\"].pct_change()\n",
        " \n",
        "  dict_df[i]=df1"
      ]
    },
    {
      "cell_type": "code",
      "source": [
        "dict_df[\"META\"]"
      ],
      "metadata": {
        "colab": {
          "base_uri": "https://localhost:8080/",
          "height": 455
        },
        "id": "t6A_qgAOEAjb",
        "outputId": "d11fe79c-db01-4c12-e9bb-3dc967dd8084"
      },
      "execution_count": 4,
      "outputs": [
        {
          "output_type": "execute_result",
          "data": {
            "text/plain": [
              "                                 Open        High         Low       Close  \\\n",
              "Date                                                                        \n",
              "2015-01-05 00:00:00-05:00   77.980003   79.250000   76.860001   77.190002   \n",
              "2015-01-06 00:00:00-05:00   77.230003   77.589996   75.360001   76.150002   \n",
              "2015-01-07 00:00:00-05:00   76.760002   77.360001   75.820000   76.150002   \n",
              "2015-01-08 00:00:00-05:00   76.739998   78.230003   76.080002   78.180000   \n",
              "2015-01-09 00:00:00-05:00   78.199997   78.620003   77.199997   77.739998   \n",
              "...                               ...         ...         ...         ...   \n",
              "2023-01-09 00:00:00-05:00  131.160004  132.949997  129.279999  129.470001   \n",
              "2023-01-10 00:00:00-05:00  127.269997  133.440002  127.150002  132.990005   \n",
              "2023-01-11 00:00:00-05:00  130.960007  133.850006  130.339996  132.889999   \n",
              "2023-01-12 00:00:00-05:00  133.440002  137.679993  131.759995  136.710007   \n",
              "2023-01-13 00:00:00-05:00  134.970001  137.389999  134.839996  136.979996   \n",
              "\n",
              "                             Volume         Mid    return  \n",
              "Date                                                       \n",
              "2015-01-05 00:00:00-05:00  26452200   78.055000       NaN  \n",
              "2015-01-06 00:00:00-05:00  27399300   76.474998 -0.013473  \n",
              "2015-01-07 00:00:00-05:00  22045300   76.590000  0.000000  \n",
              "2015-01-08 00:00:00-05:00  23961000   77.155003  0.026658  \n",
              "2015-01-09 00:00:00-05:00  21157000   77.910000 -0.005628  \n",
              "...                             ...         ...       ...  \n",
              "2023-01-09 00:00:00-05:00  26649100  131.114998 -0.004230  \n",
              "2023-01-10 00:00:00-05:00  28684400  130.295002  0.027188  \n",
              "2023-01-11 00:00:00-05:00  25423000  132.095001 -0.000752  \n",
              "2023-01-12 00:00:00-05:00  30757700  134.719994  0.028746  \n",
              "2023-01-13 00:00:00-05:00  22410700  136.114998  0.001975  \n",
              "\n",
              "[2022 rows x 7 columns]"
            ],
            "text/html": [
              "\n",
              "  <div id=\"df-4d20b55e-9bba-4727-91a2-c54622a772e1\">\n",
              "    <div class=\"colab-df-container\">\n",
              "      <div>\n",
              "<style scoped>\n",
              "    .dataframe tbody tr th:only-of-type {\n",
              "        vertical-align: middle;\n",
              "    }\n",
              "\n",
              "    .dataframe tbody tr th {\n",
              "        vertical-align: top;\n",
              "    }\n",
              "\n",
              "    .dataframe thead th {\n",
              "        text-align: right;\n",
              "    }\n",
              "</style>\n",
              "<table border=\"1\" class=\"dataframe\">\n",
              "  <thead>\n",
              "    <tr style=\"text-align: right;\">\n",
              "      <th></th>\n",
              "      <th>Open</th>\n",
              "      <th>High</th>\n",
              "      <th>Low</th>\n",
              "      <th>Close</th>\n",
              "      <th>Volume</th>\n",
              "      <th>Mid</th>\n",
              "      <th>return</th>\n",
              "    </tr>\n",
              "    <tr>\n",
              "      <th>Date</th>\n",
              "      <th></th>\n",
              "      <th></th>\n",
              "      <th></th>\n",
              "      <th></th>\n",
              "      <th></th>\n",
              "      <th></th>\n",
              "      <th></th>\n",
              "    </tr>\n",
              "  </thead>\n",
              "  <tbody>\n",
              "    <tr>\n",
              "      <th>2015-01-05 00:00:00-05:00</th>\n",
              "      <td>77.980003</td>\n",
              "      <td>79.250000</td>\n",
              "      <td>76.860001</td>\n",
              "      <td>77.190002</td>\n",
              "      <td>26452200</td>\n",
              "      <td>78.055000</td>\n",
              "      <td>NaN</td>\n",
              "    </tr>\n",
              "    <tr>\n",
              "      <th>2015-01-06 00:00:00-05:00</th>\n",
              "      <td>77.230003</td>\n",
              "      <td>77.589996</td>\n",
              "      <td>75.360001</td>\n",
              "      <td>76.150002</td>\n",
              "      <td>27399300</td>\n",
              "      <td>76.474998</td>\n",
              "      <td>-0.013473</td>\n",
              "    </tr>\n",
              "    <tr>\n",
              "      <th>2015-01-07 00:00:00-05:00</th>\n",
              "      <td>76.760002</td>\n",
              "      <td>77.360001</td>\n",
              "      <td>75.820000</td>\n",
              "      <td>76.150002</td>\n",
              "      <td>22045300</td>\n",
              "      <td>76.590000</td>\n",
              "      <td>0.000000</td>\n",
              "    </tr>\n",
              "    <tr>\n",
              "      <th>2015-01-08 00:00:00-05:00</th>\n",
              "      <td>76.739998</td>\n",
              "      <td>78.230003</td>\n",
              "      <td>76.080002</td>\n",
              "      <td>78.180000</td>\n",
              "      <td>23961000</td>\n",
              "      <td>77.155003</td>\n",
              "      <td>0.026658</td>\n",
              "    </tr>\n",
              "    <tr>\n",
              "      <th>2015-01-09 00:00:00-05:00</th>\n",
              "      <td>78.199997</td>\n",
              "      <td>78.620003</td>\n",
              "      <td>77.199997</td>\n",
              "      <td>77.739998</td>\n",
              "      <td>21157000</td>\n",
              "      <td>77.910000</td>\n",
              "      <td>-0.005628</td>\n",
              "    </tr>\n",
              "    <tr>\n",
              "      <th>...</th>\n",
              "      <td>...</td>\n",
              "      <td>...</td>\n",
              "      <td>...</td>\n",
              "      <td>...</td>\n",
              "      <td>...</td>\n",
              "      <td>...</td>\n",
              "      <td>...</td>\n",
              "    </tr>\n",
              "    <tr>\n",
              "      <th>2023-01-09 00:00:00-05:00</th>\n",
              "      <td>131.160004</td>\n",
              "      <td>132.949997</td>\n",
              "      <td>129.279999</td>\n",
              "      <td>129.470001</td>\n",
              "      <td>26649100</td>\n",
              "      <td>131.114998</td>\n",
              "      <td>-0.004230</td>\n",
              "    </tr>\n",
              "    <tr>\n",
              "      <th>2023-01-10 00:00:00-05:00</th>\n",
              "      <td>127.269997</td>\n",
              "      <td>133.440002</td>\n",
              "      <td>127.150002</td>\n",
              "      <td>132.990005</td>\n",
              "      <td>28684400</td>\n",
              "      <td>130.295002</td>\n",
              "      <td>0.027188</td>\n",
              "    </tr>\n",
              "    <tr>\n",
              "      <th>2023-01-11 00:00:00-05:00</th>\n",
              "      <td>130.960007</td>\n",
              "      <td>133.850006</td>\n",
              "      <td>130.339996</td>\n",
              "      <td>132.889999</td>\n",
              "      <td>25423000</td>\n",
              "      <td>132.095001</td>\n",
              "      <td>-0.000752</td>\n",
              "    </tr>\n",
              "    <tr>\n",
              "      <th>2023-01-12 00:00:00-05:00</th>\n",
              "      <td>133.440002</td>\n",
              "      <td>137.679993</td>\n",
              "      <td>131.759995</td>\n",
              "      <td>136.710007</td>\n",
              "      <td>30757700</td>\n",
              "      <td>134.719994</td>\n",
              "      <td>0.028746</td>\n",
              "    </tr>\n",
              "    <tr>\n",
              "      <th>2023-01-13 00:00:00-05:00</th>\n",
              "      <td>134.970001</td>\n",
              "      <td>137.389999</td>\n",
              "      <td>134.839996</td>\n",
              "      <td>136.979996</td>\n",
              "      <td>22410700</td>\n",
              "      <td>136.114998</td>\n",
              "      <td>0.001975</td>\n",
              "    </tr>\n",
              "  </tbody>\n",
              "</table>\n",
              "<p>2022 rows × 7 columns</p>\n",
              "</div>\n",
              "      <button class=\"colab-df-convert\" onclick=\"convertToInteractive('df-4d20b55e-9bba-4727-91a2-c54622a772e1')\"\n",
              "              title=\"Convert this dataframe to an interactive table.\"\n",
              "              style=\"display:none;\">\n",
              "        \n",
              "  <svg xmlns=\"http://www.w3.org/2000/svg\" height=\"24px\"viewBox=\"0 0 24 24\"\n",
              "       width=\"24px\">\n",
              "    <path d=\"M0 0h24v24H0V0z\" fill=\"none\"/>\n",
              "    <path d=\"M18.56 5.44l.94 2.06.94-2.06 2.06-.94-2.06-.94-.94-2.06-.94 2.06-2.06.94zm-11 1L8.5 8.5l.94-2.06 2.06-.94-2.06-.94L8.5 2.5l-.94 2.06-2.06.94zm10 10l.94 2.06.94-2.06 2.06-.94-2.06-.94-.94-2.06-.94 2.06-2.06.94z\"/><path d=\"M17.41 7.96l-1.37-1.37c-.4-.4-.92-.59-1.43-.59-.52 0-1.04.2-1.43.59L10.3 9.45l-7.72 7.72c-.78.78-.78 2.05 0 2.83L4 21.41c.39.39.9.59 1.41.59.51 0 1.02-.2 1.41-.59l7.78-7.78 2.81-2.81c.8-.78.8-2.07 0-2.86zM5.41 20L4 18.59l7.72-7.72 1.47 1.35L5.41 20z\"/>\n",
              "  </svg>\n",
              "      </button>\n",
              "      \n",
              "  <style>\n",
              "    .colab-df-container {\n",
              "      display:flex;\n",
              "      flex-wrap:wrap;\n",
              "      gap: 12px;\n",
              "    }\n",
              "\n",
              "    .colab-df-convert {\n",
              "      background-color: #E8F0FE;\n",
              "      border: none;\n",
              "      border-radius: 50%;\n",
              "      cursor: pointer;\n",
              "      display: none;\n",
              "      fill: #1967D2;\n",
              "      height: 32px;\n",
              "      padding: 0 0 0 0;\n",
              "      width: 32px;\n",
              "    }\n",
              "\n",
              "    .colab-df-convert:hover {\n",
              "      background-color: #E2EBFA;\n",
              "      box-shadow: 0px 1px 2px rgba(60, 64, 67, 0.3), 0px 1px 3px 1px rgba(60, 64, 67, 0.15);\n",
              "      fill: #174EA6;\n",
              "    }\n",
              "\n",
              "    [theme=dark] .colab-df-convert {\n",
              "      background-color: #3B4455;\n",
              "      fill: #D2E3FC;\n",
              "    }\n",
              "\n",
              "    [theme=dark] .colab-df-convert:hover {\n",
              "      background-color: #434B5C;\n",
              "      box-shadow: 0px 1px 3px 1px rgba(0, 0, 0, 0.15);\n",
              "      filter: drop-shadow(0px 1px 2px rgba(0, 0, 0, 0.3));\n",
              "      fill: #FFFFFF;\n",
              "    }\n",
              "  </style>\n",
              "\n",
              "      <script>\n",
              "        const buttonEl =\n",
              "          document.querySelector('#df-4d20b55e-9bba-4727-91a2-c54622a772e1 button.colab-df-convert');\n",
              "        buttonEl.style.display =\n",
              "          google.colab.kernel.accessAllowed ? 'block' : 'none';\n",
              "\n",
              "        async function convertToInteractive(key) {\n",
              "          const element = document.querySelector('#df-4d20b55e-9bba-4727-91a2-c54622a772e1');\n",
              "          const dataTable =\n",
              "            await google.colab.kernel.invokeFunction('convertToInteractive',\n",
              "                                                     [key], {});\n",
              "          if (!dataTable) return;\n",
              "\n",
              "          const docLinkHtml = 'Like what you see? Visit the ' +\n",
              "            '<a target=\"_blank\" href=https://colab.research.google.com/notebooks/data_table.ipynb>data table notebook</a>'\n",
              "            + ' to learn more about interactive tables.';\n",
              "          element.innerHTML = '';\n",
              "          dataTable['output_type'] = 'display_data';\n",
              "          await google.colab.output.renderOutput(dataTable, element);\n",
              "          const docLink = document.createElement('div');\n",
              "          docLink.innerHTML = docLinkHtml;\n",
              "          element.appendChild(docLink);\n",
              "        }\n",
              "      </script>\n",
              "    </div>\n",
              "  </div>\n",
              "  "
            ]
          },
          "metadata": {},
          "execution_count": 4
        }
      ]
    },
    {
      "cell_type": "code",
      "source": [
        "plt.hist(dict_df[\"META\"][\"return\"][1:])"
      ],
      "metadata": {
        "colab": {
          "base_uri": "https://localhost:8080/",
          "height": 369
        },
        "id": "gtF3CtqRYnic",
        "outputId": "2f1fc7d2-22ed-497f-c6e6-570cdc30f9d6"
      },
      "execution_count": 5,
      "outputs": [
        {
          "output_type": "execute_result",
          "data": {
            "text/plain": [
              "(array([2.000e+00, 1.000e+00, 1.000e+00, 2.000e+00, 5.200e+01, 9.050e+02,\n",
              "        1.006e+03, 4.600e+01, 4.000e+00, 2.000e+00]),\n",
              " array([-2.63900946e-01, -2.19917253e-01, -1.75933561e-01, -1.31949869e-01,\n",
              "        -8.79661764e-02, -4.39824840e-02,  1.20836064e-06,  4.39849007e-02,\n",
              "         8.79685931e-02,  1.31952285e-01,  1.75935978e-01]),\n",
              " <a list of 10 Patch objects>)"
            ]
          },
          "metadata": {},
          "execution_count": 5
        },
        {
          "output_type": "display_data",
          "data": {
            "text/plain": [
              "<Figure size 432x288 with 1 Axes>"
            ],
            "image/png": "[encoded data removed]"
          },
          "metadata": {
            "needs_background": "light"
          }
        }
      ]
    },
    {
      "cell_type": "code",
      "source": [
        "from sklearn.model_selection import train_test_split\n",
        "X=dict_df[\"META\"].drop([\"Close\"],axis=1)[1:]\n",
        "y=dict_df[\"META\"][\"Close\"][1:]\n",
        "X_train = X[:2000]\n",
        "y_train = y[:2000]\n",
        "X_test = X[2000:]\n",
        "y_test = y[2000:]"
      ],
      "metadata": {
        "id": "EMb67GtpPTvM"
      },
      "execution_count": 6,
      "outputs": []
    },
    {
      "cell_type": "markdown",
      "source": [
        "## Making predictions in a datastream"
      ],
      "metadata": {
        "id": "r0BMtEI8j_uz"
      }
    },
    {
      "cell_type": "code",
      "source": [
        "from river import metrics\n",
        "from river import utils\n",
        "from river.stream import iter_pandas\n",
        "from river import linear_model \n",
        "from river import preprocessing\n",
        "from river import linear_model\n",
        "from river import compose\n",
        "from river import optim \n",
        "from river.tree import HoeffdingTreeClassifier\n",
        "from river.neighbors import KNNClassifier\n",
        "from river.ensemble import AdaBoostClassifier, AdaptiveRandomForestClassifier\n",
        "from river import feature_extraction\n",
        "from river import stats\n",
        "from river import evaluate"
      ],
      "metadata": {
        "id": "eoCp4pLJkIqz"
      },
      "execution_count": 7,
      "outputs": []
    },
    {
      "cell_type": "code",
      "source": [
        "def print_progress_binary(sample_id, acc, kappa, F1):\n",
        "  print(f'Samples processed: {sample_id}')\n",
        "  print(acc)\n",
        "  print(kappa)\n",
        "  print(F1)\n",
        "\n",
        "scaler = preprocessing.StandardScaler()\n",
        "def compute_volatility(list_prices):\n",
        "  df_prices = pd.DataFrame(list_prices)\n",
        "  if len(list_prices)<5:\n",
        "    rep=0.0\n",
        "  else:\n",
        "    rep = np.std(np.array(df_prices.pct_change()[1:]))\n",
        "  return rep\n",
        "\n",
        "def evaluate_binary(stream, model, n_wait, low_bound, high_bound, verbose=False):\n",
        "  acc = metrics.BalancedAccuracy()\n",
        "  kappa = metrics.CohenKappa()\n",
        "  F1 = metrics.WeightedF1()\n",
        "  raw_results = []\n",
        "  model_name = model.__class__.__name__\n",
        "  tab_pred = []\n",
        "  tab_y_true = []\n",
        "  list_mm = []\n",
        "  x_pred = {}\n",
        "  for i, (x, y_1) in enumerate(stream):\n",
        "    if len(list_mm)>n_wait:\n",
        "      list_mm.pop(0)\n",
        "    list_mm.append(x[\"Close\"])\n",
        "    x[\"MM_Close\"] = np.mean(list_mm)\n",
        "    #x[\"Volatility\"] = compute_volatility(list_mm)\n",
        "    if len(list_mm)==1:\n",
        "      x_scaled = scaler.learn_one(x).transform_one(x)\n",
        "    if len(list_mm)>1:  \n",
        "      x_scaled = scaler.learn_one(x_pred).transform_one(x_pred)  \n",
        "      if (x[\"Close\"] - x_pred[\"Close\"]) /  x_pred[\"Close\"] <low_bound :\n",
        "        y=0\n",
        "      if (x[\"Close\"] - x_pred[\"Close\"]) /  x_pred[\"Close\"] > low_bound and (x[\"Close\"] - x_pred[\"Close\"]) /  x_pred[\"Close\"] < high_bound :\n",
        "        y=1\n",
        "      if (x[\"Close\"] - x_pred[\"Close\"]) /  x_pred[\"Close\"] > high_bound :\n",
        "        y=2\n",
        "      tab_y_true.append(y)\n",
        "      y_pred = model.predict_one(x_scaled)\n",
        "      tab_pred.append(y_pred)\n",
        "      acc.update(y_true=y, y_pred=y_pred)\n",
        "      kappa.update(y_true=y, y_pred=y_pred)\n",
        "      F1.update(y_true=y, y_pred=y_pred)\n",
        "      if i%n_wait == 0 and i>0:\n",
        "        if verbose:\n",
        "          print_progress_binary(i, acc, kappa, F1)\n",
        "        raw_results.append([model_name, i, acc.get(), kappa.get(), F1.get()])\n",
        "      model.learn_one(x_scaled,y)\n",
        "    x_pred = x\n",
        "  print_progress_binary(i, acc, kappa, F1)\n",
        "  return pd.DataFrame(raw_results, columns=[\"model\", \"id\", \"acc\",\"kappa\", \"F1\"]), tab_pred, tab_y_true\n"
      ],
      "metadata": {
        "id": "4L1gIn7Zky1Z"
      },
      "execution_count": 8,
      "outputs": []
    },
    {
      "cell_type": "markdown",
      "source": [
        "## Binary Prediction"
      ],
      "metadata": {
        "id": "Fa9HfglFNgG_"
      }
    },
    {
      "cell_type": "markdown",
      "source": [
        "First, we start by studying binary predictions. The objective is here to predict the direction of the future mouvement (and not its value). We know that we are loosing a lot of information by working with 0 and 1, but it is also for a education purpose to let us implement classification algorithms. We can also say that some mutual funds are trying to predict the moove of the financial markets and not the value of the moove (see Capital Fund Management project on prediction of the american stock market between 2PM and 4PM)"
      ],
      "metadata": {
        "id": "S-DxgfQlNk1Q"
      }
    },
    {
      "cell_type": "code",
      "source": [
        "# def produce_prediction(data, window):    \n",
        "#     prediction = (data.shift(-window)['Close'] >= data['Close'])\n",
        "#     prediction = prediction.iloc[:-window]\n",
        "#     data['pred'] = prediction.astype(int)    \n",
        "#     return data"
      ],
      "metadata": {
        "id": "iFr5geiG-Auu"
      },
      "execution_count": null,
      "outputs": []
    },
    {
      "cell_type": "code",
      "source": [
        "start_date = 0\n",
        "for i in dict_df[\"META\"].index:\n",
        "  if str(i).split(\" \")[0] == \"2020-01-06\":\n",
        "    break\n",
        "  start_date+=1"
      ],
      "metadata": {
        "id": "a95q8ol9Ky6M"
      },
      "execution_count": 9,
      "outputs": []
    },
    {
      "cell_type": "code",
      "source": [
        "df_binary = dict_df[\"META\"][start_date:]"
      ],
      "metadata": {
        "id": "xVQ3ex9lqg2G"
      },
      "execution_count": 10,
      "outputs": []
    },
    {
      "cell_type": "code",
      "source": [
        "X = df_binary[[\"Open\",\"High\",\"Low\",\"Close\",\"Volume\",\"Mid\"]]\n",
        "Y = pd.Series(np.zeros(len(X)), index=X.index)\n",
        "\n",
        "\n",
        "knn = KNNClassifier(n_neighbors=10, window_size=60)\n",
        "ht = HoeffdingTreeClassifier()\n",
        "AdaBoost = AdaBoostClassifier(model=HoeffdingTreeClassifier(), n_models=5,seed=42)\n",
        "RF_model = AdaptiveRandomForestClassifier(seed=8, leaf_prediction=\"mc\")\n",
        "low_bound = np.percentile(dict_df[\"META\"][\"return\"][1:start_date], 35)\n",
        "high_bound = np.percentile(dict_df[\"META\"][\"return\"][1:start_date], 65)\n",
        "n_wait = 60"
      ],
      "metadata": {
        "id": "ZfQAbDDbuv5m"
      },
      "execution_count": 11,
      "outputs": []
    },
    {
      "cell_type": "code",
      "source": [
        "knn_results, tab_pred_knn, tab_y_true_knn = evaluate_binary(stream=iter_pandas(X=X, y=Y), model=knn,n_wait=n_wait, low_bound=low_bound, high_bound=high_bound)"
      ],
      "metadata": {
        "colab": {
          "base_uri": "https://localhost:8080/"
        },
        "id": "bAKRTNboAbNv",
        "outputId": "de2fd795-6de8-49df-8b24-bb8ae2f6dada"
      },
      "execution_count": 12,
      "outputs": [
        {
          "output_type": "stream",
          "name": "stdout",
          "text": [
            "Samples processed: 762\n",
            "BalancedAccuracy: 25.28%\n",
            "CohenKappa: 0.79%\n",
            "WeightedF1: 37.27%\n"
          ]
        }
      ]
    },
    {
      "cell_type": "code",
      "source": [
        "ht_results, tab_pred_ht, tab_y_true_ht = evaluate_binary(stream=iter_pandas(X=X, y=Y),\n",
        "                      model=ht, n_wait=n_wait, low_bound=low_bound, high_bound=high_bound)"
      ],
      "metadata": {
        "colab": {
          "base_uri": "https://localhost:8080/"
        },
        "id": "_whqkhphCLhn",
        "outputId": "055c99d4-d8e7-4ef8-b543-82312b752e50"
      },
      "execution_count": 13,
      "outputs": [
        {
          "output_type": "stream",
          "name": "stdout",
          "text": [
            "Samples processed: 762\n",
            "BalancedAccuracy: 24.83%\n",
            "CohenKappa: -0.45%\n",
            "WeightedF1: 36.37%\n"
          ]
        }
      ]
    },
    {
      "cell_type": "code",
      "source": [
        "Adaboost_results, tab_pred_Adaboost, tab_y_true_Adaboost = evaluate_binary(stream=iter_pandas(X=X, y=Y),\n",
        "                      model=AdaBoost, n_wait=n_wait, low_bound=low_bound, high_bound=high_bound)"
      ],
      "metadata": {
        "colab": {
          "base_uri": "https://localhost:8080/"
        },
        "id": "KBIWTG5aCUP1",
        "outputId": "ffbd0652-69ba-4559-dda1-7794daf34342"
      },
      "execution_count": 14,
      "outputs": [
        {
          "output_type": "stream",
          "name": "stdout",
          "text": [
            "Samples processed: 762\n",
            "BalancedAccuracy: 25.09%\n",
            "CohenKappa: -0.94%\n",
            "WeightedF1: 34.26%\n"
          ]
        }
      ]
    },
    {
      "cell_type": "code",
      "source": [
        "RF_results, tab_pred_RF, tab_y_true_RF = evaluate_binary(stream=iter_pandas(X=X, y=Y),\n",
        "                      model=RF_model, n_wait=n_wait, low_bound=low_bound, high_bound=high_bound)"
      ],
      "metadata": {
        "colab": {
          "base_uri": "https://localhost:8080/"
        },
        "id": "ZG6LSX6bCuMS",
        "outputId": "829536e0-caed-4c2d-b796-b0e50d5cf9ee"
      },
      "execution_count": 15,
      "outputs": [
        {
          "output_type": "stream",
          "name": "stdout",
          "text": [
            "Samples processed: 762\n",
            "BalancedAccuracy: 23.04%\n",
            "CohenKappa: -5.04%\n",
            "WeightedF1: 34.20%\n"
          ]
        }
      ]
    },
    {
      "cell_type": "code",
      "source": [
        "df_plot = pd.concat([knn_results, ht_results, Adaboost_results, RF_results])\n",
        "df_plot.set_index('id', inplace=True)\n",
        "grouped = df_plot.groupby('model')"
      ],
      "metadata": {
        "id": "n82v4iRZC0u3"
      },
      "execution_count": 16,
      "outputs": []
    },
    {
      "cell_type": "code",
      "source": [
        "grouped[\"acc\"].plot(title=\"Balanced Accuracy\", legend=True)\n",
        "plt.grid()"
      ],
      "metadata": {
        "colab": {
          "base_uri": "https://localhost:8080/",
          "height": 295
        },
        "id": "Iq-nlKzkEVLg",
        "outputId": "be4fbc8a-47e3-467f-e3ae-19d89966c9d5"
      },
      "execution_count": 17,
      "outputs": [
        {
          "output_type": "display_data",
          "data": {
            "text/plain": [
              "<Figure size 432x288 with 1 Axes>"
            ],
            "image/png": "[encoded data removed]"
          },
          "metadata": {
            "needs_background": "light"
          }
        }
      ]
    },
    {
      "cell_type": "code",
      "source": [
        "grouped[\"kappa\"].plot(title=\"Kappa\", legend=True)\n",
        "plt.grid()"
      ],
      "metadata": {
        "colab": {
          "base_uri": "https://localhost:8080/",
          "height": 295
        },
        "id": "oyvbak9AFIlV",
        "outputId": "b77e881d-c952-4413-d37e-933f05e8bd68"
      },
      "execution_count": 18,
      "outputs": [
        {
          "output_type": "display_data",
          "data": {
            "text/plain": [
              "<Figure size 432x288 with 1 Axes>"
            ],
            "image/png": "[encoded data removed]"
          },
          "metadata": {
            "needs_background": "light"
          }
        }
      ]
    },
    {
      "cell_type": "markdown",
      "source": [
        "## Returns prediction"
      ],
      "metadata": {
        "id": "u-Rlgk9KOgPZ"
      }
    },
    {
      "cell_type": "markdown",
      "source": [
        "We are now trying to predict the value of the future returns"
      ],
      "metadata": {
        "id": "ZcEvUDYIOjN-"
      }
    },
    {
      "cell_type": "code",
      "source": [
        "df_real = dict_df[\"META\"][start_date:]\n",
        "X_real = df_real[[\"Open\",\"High\",\"Low\",\"Close\",\"Volume\",\"Mid\"]]\n",
        "X_real[\"return_benchmark\"] = dict_df[\"^GSPC\"][start_date:][\"return\"]\n",
        "Y_real = pd.Series(np.zeros(len(X_real)), index=X_real.index)"
      ],
      "metadata": {
        "id": "_Qx0lAuLOoZ0"
      },
      "execution_count": 19,
      "outputs": []
    },
    {
      "cell_type": "markdown",
      "source": [
        "Having a single value for the predicition can be restrictive in order to take a decision about the future returns. We can do a quantile regression to have a prediction interval instead of a single value.\n",
        "This interval can also be interesting for risk management where ones want to know the potential value of a negative returns on the portfolio."
      ],
      "metadata": {
        "id": "fub7ZKPWUWg5"
      }
    },
    {
      "cell_type": "code",
      "source": [
        "def make_model(alpha):\n",
        "    scale = preprocessing.StandardScaler()\n",
        "\n",
        "    learn = linear_model.LinearRegression(\n",
        "        intercept_lr=0,\n",
        "        optimizer=optim.SGD(0.03),\n",
        "        loss=optim.losses.Quantile(alpha=alpha)\n",
        "    )\n",
        "\n",
        "    model = scale | learn\n",
        "    model = preprocessing.TargetStandardScaler(regressor=model)\n",
        "\n",
        "    return model\n",
        "\n",
        "def print_progress_real(sample_id, MAE):\n",
        "  print(f'Samples processed: {sample_id}')\n",
        "  print(MAE)\n",
        "\n",
        "def evaluate_prediction_interval(stream, models, n_wait, verbose=False):\n",
        "  MAE = metrics.MAE()\n",
        "  y_preds = {'lower': [], 'center': [],'upper': []}\n",
        "  raw_results = []\n",
        "  tab_y_true = []\n",
        "  list_mm = []\n",
        "  x_pred = {}\n",
        "  for i,(x,y_1) in enumerate(stream):\n",
        "    if len(list_mm)>n_wait:\n",
        "      list_mm.pop(0)\n",
        "    list_mm.append(x[\"Close\"])\n",
        "    x[\"MM_Close\"] = np.mean(list_mm)\n",
        "    if len(list_mm)>1:  \n",
        "      y = (x[\"Close\"] - x_pred[\"Close\"]) /  x_pred[\"Close\"]\n",
        "      tab_y_true.append(y)\n",
        "      for name, model in models.items():\n",
        "        y_pred = model.predict_one(x)\n",
        "        y_preds[name].append(y_pred)\n",
        "        model.learn_one(x,y)\n",
        "      MAE.update(y_true=y, y_pred=y_preds[\"center\"][-1])\n",
        "      if i%n_wait == 0 and i>0:\n",
        "        if verbose:\n",
        "          print_progress_real(i, MAE)\n",
        "        raw_results.append([models[\"center\"].__class__.__name__, i, MAE.get()])\n",
        "    x_pred = x\n",
        "  print_progress_real(i, MAE)\n",
        "  return pd.DataFrame(raw_results, columns=[\"model\", \"id\", \"MAE\"]), y_preds, tab_y_true"
      ],
      "metadata": {
        "id": "Pcfb3iP2Uso4"
      },
      "execution_count": 20,
      "outputs": []
    },
    {
      "cell_type": "code",
      "source": [
        "models = {\n",
        "    'lower': make_model(alpha=0.05),\n",
        "    'center': make_model(alpha=0.5),\n",
        "    'upper': make_model(alpha=0.95)\n",
        "}\n",
        "\n",
        "Quantile_regression_results, y_pred_quantile, tab_y_true_reg = evaluate_prediction_interval(stream=iter_pandas(X=X_real, y=Y_real), models = models, n_wait=30)"
      ],
      "metadata": {
        "colab": {
          "base_uri": "https://localhost:8080/"
        },
        "id": "bv9yLjflXdE_",
        "outputId": "829759ce-838b-45b6-d3c6-f9aca559b42f"
      },
      "execution_count": 21,
      "outputs": [
        {
          "output_type": "stream",
          "name": "stderr",
          "text": [
            "/usr/local/lib/python3.8/dist-packages/river/preprocessing/scale.py:594: RuntimeWarning: invalid value encountered in double_scalars\n",
            "  return (y - self.var.mean.get()) / self.var.get() ** 0.5\n"
          ]
        },
        {
          "output_type": "stream",
          "name": "stdout",
          "text": [
            "Samples processed: 762\n",
            "MAE: 0.016261\n"
          ]
        }
      ]
    },
    {
      "cell_type": "code",
      "source": [
        "fig, ax = plt.subplots(figsize=(10, 6))\n",
        "ax.grid(alpha=0.75)\n",
        "ax.plot(np.arange(len(y_pred_quantile[\"center\"])), tab_y_true_reg, lw=3, color='#2ecc71', alpha=0.8, label='Truth')\n",
        "ax.plot(np.arange(len(y_pred_quantile[\"center\"])), y_pred_quantile['center'], lw=3, color='#e74c3c', alpha=0.8, label='Prediction')\n",
        "ax.fill_between(np.arange(len(y_pred_quantile[\"center\"])), y_pred_quantile['lower'], y_pred_quantile['upper'], color='#e74c3c', alpha=0.3, label='Prediction interval')\n",
        "ax.legend()"
      ],
      "metadata": {
        "colab": {
          "base_uri": "https://localhost:8080/",
          "height": 391
        },
        "id": "OHR_4omUZowk",
        "outputId": "1ec942b3-b21c-48da-bf11-85293a352610"
      },
      "execution_count": 22,
      "outputs": [
        {
          "output_type": "execute_result",
          "data": {
            "text/plain": [
              "<matplotlib.legend.Legend at 0x7f63ceef29a0>"
            ]
          },
          "metadata": {},
          "execution_count": 22
        },
        {
          "output_type": "display_data",
          "data": {
            "text/plain": [
              "<Figure size 720x432 with 1 Axes>"
            ],
            "image/png": "[encoded data removed]"
          },
          "metadata": {
            "needs_background": "light"
          }
        }
      ]
    },
    {
      "cell_type": "markdown",
      "source": [
        "It is also possible to combine both approaches. We can still have a classification problem but we can give some percentiles of the prediction interval in the features to give more insight of the current state of the financial market."
      ],
      "metadata": {
        "id": "qp3OKtjGnxis"
      }
    },
    {
      "cell_type": "code",
      "source": [
        "def make_model(alpha):\n",
        "    scale = preprocessing.StandardScaler()\n",
        "\n",
        "    learn = linear_model.LinearRegression(\n",
        "        intercept_lr=0,\n",
        "        optimizer=optim.SGD(0.03),\n",
        "        loss=optim.losses.Quantile(alpha=alpha)\n",
        "    )\n",
        "\n",
        "    model = scale | learn\n",
        "    model = preprocessing.TargetStandardScaler(regressor=model)\n",
        "\n",
        "    return model\n",
        "\n",
        "models = {\n",
        "    '0.1': make_model(alpha=0.1),\n",
        "    '0.3': make_model(alpha=0.3),\n",
        "    'center': make_model(alpha=0.5),\n",
        "    '0.6': make_model(alpha=0.6),\n",
        "    '0.8': make_model(alpha=0.8),\n",
        "    '0.95': make_model(alpha=0.95)\n",
        "}"
      ],
      "metadata": {
        "id": "vRR-RjhdtnNi"
      },
      "execution_count": 23,
      "outputs": []
    },
    {
      "cell_type": "code",
      "source": [
        "def evaluate_binary_with_prediction_interval(stream, model_binary, models, n_wait, low_bound, high_bound, verbose=False):\n",
        "  acc = metrics.BalancedAccuracy()\n",
        "  kappa = metrics.CohenKappa()  \n",
        "  F1 = metrics.WeightedF1()\n",
        "  raw_results = []\n",
        "  model_name = model_binary.__class__.__name__\n",
        "  tab_pred = []\n",
        "  tab_y_true = []\n",
        "  list_mm = []\n",
        "  x_pred = {}\n",
        "  for i, (x, y_1) in enumerate(stream):\n",
        "    if len(list_mm)>n_wait:\n",
        "      list_mm.pop(0)\n",
        "    list_mm.append(x[\"Close\"])\n",
        "    x[\"MM_Close\"] = np.mean(list_mm)\n",
        "    #x[\"Volatility\"] = compute_volatility(list_mm)\n",
        "    if len(list_mm)==1:\n",
        "      x_scaled = scaler.learn_one(x).transform_one(x)\n",
        "    if len(list_mm)>1:  \n",
        "      y_true_reg = (x[\"Close\"] - x_pred[\"Close\"]) /  x_pred[\"Close\"]\n",
        "      for name, model in models.items():\n",
        "        y_pred_reg = model.predict_one(x)\n",
        "        x_pred[name] = y_pred_reg\n",
        "        model.learn_one(x,y_true_reg)\n",
        "      x_scaled = scaler.learn_one(x_pred).transform_one(x_pred)  \n",
        "      if (x[\"Close\"] - x_pred[\"Close\"]) /  x_pred[\"Close\"] <low_bound :\n",
        "        y=0\n",
        "      if (x[\"Close\"] - x_pred[\"Close\"]) /  x_pred[\"Close\"] > low_bound and (x[\"Close\"] - x_pred[\"Close\"]) /  x_pred[\"Close\"] < high_bound :\n",
        "        y=1\n",
        "      if (x[\"Close\"] - x_pred[\"Close\"]) /  x_pred[\"Close\"] > high_bound :\n",
        "        y=2\n",
        "      tab_y_true.append(y)\n",
        "      y_pred = model_binary.predict_one(x_scaled)\n",
        "      tab_pred.append(y_pred)\n",
        "      acc.update(y_true=y, y_pred=y_pred)\n",
        "      kappa.update(y_true=y, y_pred=y_pred)\n",
        "      F1.update(y_true=y, y_pred=y_pred)\n",
        "      if i%n_wait == 0 and i>0:\n",
        "        if verbose:\n",
        "          print_progress_binary(i, acc, kappa, F1)\n",
        "        raw_results.append([model_name, i, acc.get(), kappa.get(), F1.get()])\n",
        "      model_binary.learn_one(x_scaled,y)\n",
        "    x_pred = x\n",
        "  print_progress_binary(i, acc, kappa, F1)\n",
        "  return pd.DataFrame(raw_results, columns=[\"model_binary\", \"id\", \"acc\",\"kappa\", \"F1\"]), tab_pred, tab_y_true"
      ],
      "metadata": {
        "id": "IVg6zhozpDQ0"
      },
      "execution_count": 24,
      "outputs": []
    },
    {
      "cell_type": "code",
      "source": [
        "X = df_binary[[\"Open\",\"High\",\"Low\",\"Close\",\"Volume\",\"Mid\"]]\n",
        "Y = pd.Series(np.zeros(len(X)), index=X.index)\n",
        "\n",
        "\n",
        "knn = KNNClassifier(n_neighbors=10, window_size=60)\n",
        "ht = HoeffdingTreeClassifier()\n",
        "AdaBoost = AdaBoostClassifier(model=HoeffdingTreeClassifier(), n_models=5,seed=42)\n",
        "RF_model = AdaptiveRandomForestClassifier(seed=8, leaf_prediction=\"mc\")\n",
        "low_bound = np.percentile(dict_df[\"META\"][\"return\"][1:start_date], 35)\n",
        "high_bound = np.percentile(dict_df[\"META\"][\"return\"][1:start_date], 65)"
      ],
      "metadata": {
        "id": "whvJj1tPrUlZ"
      },
      "execution_count": 25,
      "outputs": []
    },
    {
      "cell_type": "code",
      "source": [
        "## Classification without the adding of the features\n",
        "knn_results, tab_pred_knn, tab_y_true_knn = evaluate_binary(stream=iter_pandas(X=X, y=Y), model=knn,n_wait=n_wait, low_bound=low_bound, high_bound=high_bound)"
      ],
      "metadata": {
        "colab": {
          "base_uri": "https://localhost:8080/"
        },
        "id": "hdlQhxywrYLb",
        "outputId": "1f8ac4f6-77f3-43c4-b597-f669919dca01"
      },
      "execution_count": 29,
      "outputs": [
        {
          "output_type": "stream",
          "name": "stdout",
          "text": [
            "Samples processed: 762\n",
            "BalancedAccuracy: 35.97%\n",
            "CohenKappa: 3.31%\n",
            "WeightedF1: 39.06%\n"
          ]
        }
      ]
    },
    {
      "cell_type": "code",
      "source": [
        "## Classification with the features coming from the regression\n",
        "knn_results_int, tab_pred_knn_int, tab_y_true_knn_int = evaluate_binary_with_prediction_interval(stream=iter_pandas(X=X, y=Y), model_binary=knn, models = models, n_wait=n_wait, low_bound=low_bound, high_bound=high_bound)"
      ],
      "metadata": {
        "colab": {
          "base_uri": "https://localhost:8080/"
        },
        "id": "F1FnKy4Preuk",
        "outputId": "772aff0b-d3f6-4ae5-a945-7b609d690655"
      },
      "execution_count": 28,
      "outputs": [
        {
          "output_type": "stream",
          "name": "stdout",
          "text": [
            "Samples processed: 762\n",
            "BalancedAccuracy: 36.21%\n",
            "CohenKappa: 4.22%\n",
            "WeightedF1: 39.97%\n"
          ]
        }
      ]
    },
    {
      "cell_type": "markdown",
      "source": [
        "We can see that the Balanced Accuracy is better by 10% with the addition of new features coming from the linear regression."
      ],
      "metadata": {
        "id": "iQG91aYdkXv4"
      }
    },
    {
      "cell_type": "code",
      "source": [
        "ht_results_int, tab_pred_ht_int, tab_y_true_ht_int = evaluate_binary_with_prediction_interval(stream=iter_pandas(X=X, y=Y),\n",
        "                      model_binary=ht,  models = models, n_wait=n_wait, low_bound=low_bound, high_bound=high_bound)"
      ],
      "metadata": {
        "colab": {
          "base_uri": "https://localhost:8080/"
        },
        "id": "Z4LF4TyWkk2d",
        "outputId": "2875e39f-4221-493e-fc69-8c94a5db8b58"
      },
      "execution_count": 30,
      "outputs": [
        {
          "output_type": "stream",
          "name": "stdout",
          "text": [
            "Samples processed: 762\n",
            "BalancedAccuracy: 25.09%\n",
            "CohenKappa: 0.26%\n",
            "WeightedF1: 37.22%\n"
          ]
        }
      ]
    },
    {
      "cell_type": "code",
      "source": [
        "Adaboost_results_int, tab_pred_Adaboost_int, tab_y_true_Adaboost_int = evaluate_binary_with_prediction_interval(stream=iter_pandas(X=X, y=Y),\n",
        "                      model_binary=AdaBoost, models = models, n_wait=n_wait, low_bound=low_bound, high_bound=high_bound)"
      ],
      "metadata": {
        "colab": {
          "base_uri": "https://localhost:8080/"
        },
        "id": "tOkeTT3dk60n",
        "outputId": "d2b11920-e87f-4748-9796-84f623fc6c87"
      },
      "execution_count": 31,
      "outputs": [
        {
          "output_type": "stream",
          "name": "stdout",
          "text": [
            "Samples processed: 762\n",
            "BalancedAccuracy: 29.41%\n",
            "CohenKappa: 7.96%\n",
            "WeightedF1: 40.50%\n"
          ]
        }
      ]
    },
    {
      "cell_type": "code",
      "source": [
        "RF_results_int, tab_pred_RF_int, tab_y_true_RF_int = evaluate_binary_with_prediction_interval(stream=iter_pandas(X=X, y=Y),\n",
        "                      model_binary=RF_model, models = models, n_wait=n_wait, low_bound=low_bound, high_bound=high_bound)"
      ],
      "metadata": {
        "colab": {
          "base_uri": "https://localhost:8080/"
        },
        "id": "JX0L-x-2lIbM",
        "outputId": "0dbe624e-e782-431d-95d8-ce9f45deb1e8"
      },
      "execution_count": 32,
      "outputs": [
        {
          "output_type": "stream",
          "name": "stdout",
          "text": [
            "Samples processed: 762\n",
            "BalancedAccuracy: 26.91%\n",
            "CohenKappa: 5.38%\n",
            "WeightedF1: 39.70%\n"
          ]
        }
      ]
    },
    {
      "cell_type": "code",
      "source": [
        "df_plot_int = pd.concat([knn_results_int, ht_results_int, Adaboost_results_int, RF_results_int])\n",
        "df_plot_int.set_index('id', inplace=True)\n",
        "grouped_int = df_plot_int.groupby('model_binary')"
      ],
      "metadata": {
        "id": "VQXmbUZelaWs"
      },
      "execution_count": 33,
      "outputs": []
    },
    {
      "cell_type": "code",
      "source": [
        "grouped_int[\"acc\"].plot(title=\"Balanced Accuracy\", legend=True)\n",
        "plt.grid()"
      ],
      "metadata": {
        "colab": {
          "base_uri": "https://localhost:8080/",
          "height": 295
        },
        "id": "JpcY7fgHl0GB",
        "outputId": "12d30754-76bc-4687-d0fc-6221a9a572bb"
      },
      "execution_count": 34,
      "outputs": [
        {
          "output_type": "display_data",
          "data": {
            "text/plain": [
              "<Figure size 432x288 with 1 Axes>"
            ],
            "image/png": "[encoded data removed]"
          },
          "metadata": {
            "needs_background": "light"
          }
        }
      ]
    },
    {
      "cell_type": "code",
      "source": [
        "grouped_int[\"kappa\"].plot(title=\"Kappa\", legend=True)\n",
        "plt.grid()"
      ],
      "metadata": {
        "colab": {
          "base_uri": "https://localhost:8080/",
          "height": 295
        },
        "id": "xIva2Yrbl-mk",
        "outputId": "1f5ead8f-4dad-46bf-c833-02d8d50a2ed5"
      },
      "execution_count": 35,
      "outputs": [
        {
          "output_type": "display_data",
          "data": {
            "text/plain": [
              "<Figure size 432x288 with 1 Axes>"
            ],
            "image/png": "[encoded data removed]"
          },
          "metadata": {
            "needs_background": "light"
          }
        }
      ]
    },
    {
      "cell_type": "markdown",
      "source": [
        "## Implementation of the indicator $\\widehat{I^{L+1}}$ from \"A statistical test of market efficiency based on information theory\", X.Brouty, M.Garcin [1]\n",
        "\n",
        "[1] https://arxiv.org/abs/2208.11976v1"
      ],
      "metadata": {
        "id": "rvKOP6dRnRvz"
      }
    },
    {
      "cell_type": "code",
      "source": [
        "import math\n",
        "from collections import OrderedDict\n",
        "from decimal import Decimal"
      ],
      "metadata": {
        "id": "s2AP9uFOnRK_"
      },
      "execution_count": 36,
      "outputs": []
    },
    {
      "cell_type": "code",
      "source": [
        "def binary_code_char(df):\n",
        "    binary_code=''\n",
        "    for k in df:\n",
        "        if k>0:\n",
        "            binary_code+='1'\n",
        "        else:\n",
        "            binary_code+='0'\n",
        "    return binary_code\n",
        "\n",
        "def calcul_proba(df):\n",
        "    p_1=df.count('0')/len(df)\n",
        "    p_2=df.count('1')/len(df)\n",
        "    eps_1=0\n",
        "    compt1=0\n",
        "    compt2=0\n",
        "    eps_2=0\n",
        "    for i in range(0,len(df)-1):\n",
        "        if df[i]=='0':\n",
        "            if df[i+1]=='1':\n",
        "                eps_1+=1\n",
        "            compt1+=1\n",
        "        if df[i]=='1':\n",
        "            if df[i+1]=='1':\n",
        "                eps_2+=1\n",
        "            compt2+=1\n",
        "    if compt1!=0:\n",
        "        eps_1=eps_1/compt1 \n",
        "    if compt2!=0:\n",
        "        eps_2=eps_2/compt2\n",
        "    return p_1,p_2,eps_1,eps_2\n",
        "\n",
        "def i_efficient_ts(df):\n",
        "    p_1,p_2,eps_1,eps_2=calcul_proba(df)\n",
        "    #print(calcul_proba(df))\n",
        "    if eps_1==0.0 and eps_2!=0 and p_1!=0:\n",
        "        return p_1+p_2*eps_2*math.log(p_2*eps_2,2)+p_2*(1-eps_2)*math.log(p_2*(1-eps_2),2)-p_2*math.log(p_2/2,2)\n",
        "    if eps_2==0.0 and eps_1!=0 and p_1!=0 and eps_1!=1:\n",
        "        return p_1*eps_1*math.log(p_1*eps_1,2)+p_1*(1-eps_1)*math.log(p_1*(1-eps_1),2)-p_1*math.log(p_1/2,2)+p_2\n",
        "    if eps_1==1.0 and eps_2!=1 and p_2!=0 and eps_2!=0:\n",
        "        return  p_1+p_2*eps_2*math.log(p_2*eps_2,2)+p_2*(1-eps_2)*math.log(p_2*(1-eps_2),2)-p_2*math.log(p_2/2,2)\n",
        "    if eps_2==1.0 and eps_1!=1 and p_1!=0:\n",
        "        return p_1*eps_1*math.log(p_1*eps_1,2)+p_1*(1-eps_1)*math.log(p_1*(1-eps_1),2)-p_1*math.log(p_1/2,2)+p_2\n",
        "    if eps_1==0.0 and eps_2==0.0:\n",
        "        return 1\n",
        "    if eps_1==0.0 and eps_2==1.0:\n",
        "        return 1\n",
        "    if eps_1==1.0 and eps_2==0.0:\n",
        "        return 1\n",
        "    if eps_1==1.0 and eps_2==1.0:\n",
        "        return 1\n",
        "    if p_1==0:\n",
        "        if eps_2==0:\n",
        "            return p_2\n",
        "        if eps_2==1:\n",
        "            return p_2\n",
        "        else:\n",
        "            return p_2*eps_2*math.log(p_2*eps_2,2)+p_2*(1-eps_2)*math.log(p_2*(1-eps_2),2)-p_2*math.log(p_2/2,2)\n",
        "    if p_2==0:\n",
        "        if eps_1==0:\n",
        "            return p_1\n",
        "        if eps_1==1:\n",
        "            return p_1\n",
        "        else:\n",
        "            return p_1*eps_1*math.log(p_1*eps_1,2)+p_1*(1-eps_1)*math.log(p_1*(1-eps_1),2)-p_1*math.log(p_1/2,2)\n",
        "    else: \n",
        "        return p_1*eps_1*math.log(p_1*eps_1,2)+p_1*(1-eps_1)*math.log(p_1*(1-eps_1),2)-p_1*math.log(p_1/2,2)+p_2*eps_2*math.log(p_2*eps_2,2)+p_2*(1-eps_2)*math.log(p_2*(1-eps_2),2)-p_2*math.log(p_2/2,2)\n"
      ],
      "metadata": {
        "id": "goasp27roJRL"
      },
      "execution_count": 37,
      "outputs": []
    },
    {
      "cell_type": "markdown",
      "source": [
        "For the bootstrap"
      ],
      "metadata": {
        "id": "stm1BquNtN4E"
      }
    },
    {
      "cell_type": "code",
      "source": [
        "def generate_efficient(nb):\n",
        "    tab=str(np.random.randint(2))\n",
        "    while len(tab)<nb:\n",
        "        if tab[-1]=='0':\n",
        "            proba=np.random.uniform(0,1)\n",
        "            if proba>0.5:\n",
        "                tab+='1'\n",
        "            else:\n",
        "                tab+='0'\n",
        "        if tab[-1]=='1':\n",
        "            proba=np.random.uniform(0,1)\n",
        "            if proba>0.5:\n",
        "                tab+='1'\n",
        "            else:\n",
        "                tab+='0'\n",
        "    return tab\n",
        "\n",
        "def bootstrap(nb1,nb2):\n",
        "    tab=[]\n",
        "    for i in range(0,nb1):\n",
        "        tab_eff=generate_efficient(nb2)\n",
        "        proba=calcul_proba(tab_eff)\n",
        "        tab.append(i_efficient(proba[0],proba[1],proba[2],proba[3]))\n",
        "    return tab\n",
        "\n",
        "def i_efficient(p_1,p_2,eps_1,eps_2):\n",
        "    if eps_1==0.0 and eps_2!=0 and p_1!=0:\n",
        "        return p_1+p_2*eps_2*math.log(p_2*eps_2,2)+p_2*(1-eps_2)*math.log(p_2*(1-eps_2),2)-p_2*math.log(p_2/2,2)\n",
        "    if eps_2==0.0 and eps_1!=0 and p_1!=0 and eps_1!=1:\n",
        "        return p_1*eps_1*math.log(p_1*eps_1,2)+p_1*(1-eps_1)*math.log(p_1*(1-eps_1),2)-p_1*math.log(p_1/2,2)+p_2\n",
        "    if eps_1==1.0 and eps_2!=1 and p_2!=0 and eps_2!=0:\n",
        "        return  p_1+p_2*eps_2*math.log(p_2*eps_2,2)+p_2*(1-eps_2)*math.log(p_2*(1-eps_2),2)-p_2*math.log(p_2/2,2)\n",
        "    if eps_2==1.0 and eps_1!=1 and p_1!=0:\n",
        "        return p_1*eps_1*math.log(p_1*eps_1,2)+p_1*(1-eps_1)*math.log(p_1*(1-eps_1),2)-p_1*math.log(p_1/2,2)+p_2\n",
        "    if eps_1==0.0 and eps_2==0.0:\n",
        "        return 1\n",
        "    if eps_1==0.0 and eps_2==1.0:\n",
        "        return 1\n",
        "    if eps_1==1.0 and eps_2==0.0:\n",
        "        return 1\n",
        "    if eps_1==1.0 and eps_2==1.0:\n",
        "        return 1\n",
        "    if p_1==0:\n",
        "        if eps_2==0:\n",
        "            return p_2\n",
        "        if eps_2==1:\n",
        "            return p_2\n",
        "        else:\n",
        "            return p_2*eps_2*math.log(p_2*eps_2,2)+p_2*(1-eps_2)*math.log(p_2*(1-eps_2),2)-p_2*math.log(p_2/2,2)\n",
        "    if p_2==0:\n",
        "        if eps_1==0:\n",
        "            return p_1\n",
        "        if eps_1==1:\n",
        "            return p_1\n",
        "        else:\n",
        "            return p_1*eps_1*math.log(p_1*eps_1,2)+p_1*(1-eps_1)*math.log(p_1*(1-eps_1),2)-p_1*math.log(p_1/2,2)\n",
        "    else: \n",
        "        return p_1*eps_1*math.log(p_1*eps_1,2)+p_1*(1-eps_1)*math.log(p_1*(1-eps_1),2)-p_1*math.log(p_1/2,2)+p_2*eps_2*math.log(p_2*eps_2,2)+p_2*(1-eps_2)*math.log(p_2*(1-eps_2),2)-p_2*math.log(p_2/2,2)\n"
      ],
      "metadata": {
        "id": "eNV8egedtJR_"
      },
      "execution_count": 38,
      "outputs": []
    },
    {
      "cell_type": "code",
      "source": [
        "tab_bootstrap = bootstrap(1000,n_wait)"
      ],
      "metadata": {
        "id": "BUvzr2dHtamk"
      },
      "execution_count": 39,
      "outputs": []
    },
    {
      "cell_type": "code",
      "source": [
        "def evaluate_information(stream, n_wait):\n",
        "  list_mm = np.random.choice(['0','1'])\n",
        "  x_pred = {}\n",
        "  tab_info = []\n",
        "  for i, (x, y_1) in enumerate(stream):\n",
        "    if len(list_mm) > 1:\n",
        "      if x[\"Close\"] > x_pred[\"Close\"]:\n",
        "        ret = '1'\n",
        "      else:\n",
        "        ret = '0'\n",
        "      if len(list_mm)<n_wait:\n",
        "        list_mm += ret        \n",
        "      if len(list_mm)>=n_wait:\n",
        "        list_mm = list_mm[1:]\n",
        "        list_mm += ret\n",
        "        proba=calcul_proba(list_mm)\n",
        "        tab_info.append(i_efficient(proba[0],proba[1],proba[2],proba[3]))\n",
        "    if len(list_mm)<=1:\n",
        "      list_mm+=np.random.choice(['0','1'])\n",
        "    x_pred = x\n",
        "  return tab_info"
      ],
      "metadata": {
        "id": "zmKvbyVYv38S"
      },
      "execution_count": 40,
      "outputs": []
    },
    {
      "cell_type": "code",
      "source": [
        "tab_info = evaluate_information(stream=iter_pandas(X=X, y=Y), n_wait=n_wait)"
      ],
      "metadata": {
        "id": "d2xVTFxyyAv_"
      },
      "execution_count": 41,
      "outputs": []
    },
    {
      "cell_type": "code",
      "source": [
        "plt.plot(tab_info,label=\"$I^{L+1}$\",color=\"black\")\n",
        "plt.plot(np.arange(0,len(X[\"Close\"])-n_wait,1),(len(X[\"Close\"])-n_wait)*np.percentile(tab_bootstrap,[95]).tolist(),'--',label=\"95%\",color=\"black\")\n",
        "plt.plot(np.arange(0,len(X[\"Close\"])-n_wait,1),(len(X[\"Close\"])-n_wait)*np.percentile(tab_bootstrap,[99]).tolist(),'-.',label=\"99%\",color=\"black\")\n",
        "plt.legend(framealpha=1, frameon=True)\n",
        "plt.title(\"Evolution of $I^{L+1}$ for META\")\n",
        "plt.xlabel(\"Dates\")\n",
        "plt.ylabel(\"$I^{L+1}$\")\n",
        "plt.grid()\n",
        "plt.show()"
      ],
      "metadata": {
        "colab": {
          "base_uri": "https://localhost:8080/",
          "height": 299
        },
        "id": "1J8vrmT00OOj",
        "outputId": "9b4c16bd-12e1-4610-c732-f6b55199fcd0"
      },
      "execution_count": 42,
      "outputs": [
        {
          "output_type": "display_data",
          "data": {
            "text/plain": [
              "<Figure size 432x288 with 1 Axes>"
            ],
            "image/png": "[encoded data removed]"
          },
          "metadata": {
            "needs_background": "light"
          }
        }
      ]
    },
    {
      "cell_type": "markdown",
      "source": [
        "## Construction of a portfolio with the stocks selected"
      ],
      "metadata": {
        "id": "26gObjlD0jTm"
      }
    },
    {
      "cell_type": "markdown",
      "source": [
        "For the moment, we did the classification and the regression for the stock META, but it is important to construct a portfolio with several stocks in order to improve the performance of the strategy by reducing the risks for a single stock. We are then doing a prediction at each end of the day for the $n$ stocks of the universe of investment and we buy the stocks with a prediction of 2. We will then run a backtest to see if this really simple strategy is working. "
      ],
      "metadata": {
        "id": "cgjwOvAD0yaO"
      }
    },
    {
      "cell_type": "markdown",
      "source": [
        "We are going to start to simulate the predictions for all of the stocks. Because it is a backtest, we can compute all the predictions from start date to end date and simulate a portfolio with the predictions. It is not necessary to do this in streaming. "
      ],
      "metadata": {
        "id": "OR6XgwIH4wJh"
      }
    },
    {
      "cell_type": "code",
      "source": [
        "ticker_list=[\"META\", \"AAPL\", \"AMZN\", \"TSLA\", \"MSFT\", \"GOOG\", \"PFE\", \"CVX\", \"^GSPC\"]\n",
        "dict_df_USA={}\n",
        "for i in ticker_list: \n",
        "  tick = yf.Ticker(i)\n",
        "  #df=tick.history(period=\"max\")\n",
        "  df=tick.history(start=\"2015-01-05\")\n",
        "  df1 = df.drop([\"Dividends\",\"Stock Splits\"],axis=1)\n",
        "  df1[\"Mid\"] = (df1[\"High\"] + df1[\"Low\"])/2\n",
        "  df1[\"return\"]=df1[\"Close\"].pct_change()\n",
        "  list_return = list(df1[\"return\"])[1:]\n",
        "  list_return.append(0)\n",
        "  df1[\"pred_backtest\"] = list_return\n",
        " \n",
        "  dict_df_USA[i]=df1"
      ],
      "metadata": {
        "id": "RKN6TrcKGMis"
      },
      "execution_count": 43,
      "outputs": []
    },
    {
      "cell_type": "code",
      "source": [
        "dic_stocks = {}\n",
        "for i in list(dict_df_USA.keys()): ## The last ticker is the one of S&P 500 to have a feature representing the benchmark\n",
        "  start_date = 0\n",
        "  for date in dict_df_USA[i].index:\n",
        "    if str(date).split(\" \")[0] == \"2020-01-06\":\n",
        "      break\n",
        "    start_date+=1\n",
        "  df_binary = dict_df_USA[i][start_date:]\n",
        "  dic_stocks[i] = df_binary"
      ],
      "metadata": {
        "id": "Abh4vLFW5EPu"
      },
      "execution_count": 44,
      "outputs": []
    },
    {
      "cell_type": "markdown",
      "source": [
        "Here we are working with stocks coming from the S&P 500 only, it allows to have the same trading day between all the stocks."
      ],
      "metadata": {
        "id": "C745zbUrf_g7"
      }
    },
    {
      "cell_type": "code",
      "source": [
        "for i in dic_stocks.keys():\n",
        "  print(i,len(dic_stocks[i]))"
      ],
      "metadata": {
        "colab": {
          "base_uri": "https://localhost:8080/"
        },
        "id": "aUegEW4I6Z4a",
        "outputId": "ee84eebe-5db2-4f11-8512-8a604d406d73"
      },
      "execution_count": 45,
      "outputs": [
        {
          "output_type": "stream",
          "name": "stdout",
          "text": [
            "META 763\n",
            "AAPL 763\n",
            "AMZN 763\n",
            "TSLA 763\n",
            "MSFT 763\n",
            "GOOG 763\n",
            "PFE 763\n",
            "CVX 763\n",
            "^GSPC 763\n"
          ]
        }
      ]
    },
    {
      "cell_type": "code",
      "source": [
        "dic_stocks[\"META\"][\"pred_backtest\"][1]"
      ],
      "metadata": {
        "colab": {
          "base_uri": "https://localhost:8080/"
        },
        "id": "Vi6M1VkBJw9j",
        "outputId": "76550ba8-d0fa-4f9a-a93f-06696f92ba19"
      },
      "execution_count": 46,
      "outputs": [
        {
          "output_type": "execute_result",
          "data": {
            "text/plain": [
              "0.010138006603118255"
            ]
          },
          "metadata": {},
          "execution_count": 46
        }
      ]
    },
    {
      "cell_type": "code",
      "source": [
        "dic_pred = {}\n",
        "for i in list(dic_stocks.keys())[:-1]:\n",
        "  X = dic_stocks[i][[\"Open\", \"High\", \"Low\", \"Close\", \"Volume\", \"Mid\"]]\n",
        "  Y = pd.Series(np.zeros(len(X)), index=X.index)\n",
        "  low_bound = np.percentile(dic_stocks[i][\"return\"], 35)\n",
        "  high_bound = np.percentile(dic_stocks[i][\"return\"], 65)\n",
        "  knn_results_int, tab_pred_knn_int, tab_y_true_knn_int = evaluate_binary_with_prediction_interval(stream=iter_pandas(X=X, y=Y),\n",
        "                                                                                                   model_binary=knn, models = models, n_wait=n_wait,\n",
        "                                                                                                   low_bound=low_bound, high_bound=high_bound)\n",
        "  dic_pred[i] = tab_pred_knn_int\n",
        "  \n",
        "  "
      ],
      "metadata": {
        "colab": {
          "base_uri": "https://localhost:8080/"
        },
        "id": "w-Bdssd-HqIg",
        "outputId": "3c023439-9080-464c-cfe1-4ada5544addb"
      },
      "execution_count": 48,
      "outputs": [
        {
          "output_type": "stream",
          "name": "stdout",
          "text": [
            "Samples processed: 762\n",
            "BalancedAccuracy: 45.97%\n",
            "CohenKappa: 19.16%\n",
            "WeightedF1: 46.22%\n",
            "Samples processed: 762\n",
            "BalancedAccuracy: 37.18%\n",
            "CohenKappa: 5.72%\n",
            "WeightedF1: 37.20%\n",
            "Samples processed: 762\n",
            "BalancedAccuracy: 43.73%\n",
            "CohenKappa: 15.48%\n",
            "WeightedF1: 43.69%\n",
            "Samples processed: 762\n",
            "BalancedAccuracy: 50.31%\n",
            "CohenKappa: 25.79%\n",
            "WeightedF1: 50.60%\n",
            "Samples processed: 762\n",
            "BalancedAccuracy: 52.84%\n",
            "CohenKappa: 30.12%\n",
            "WeightedF1: 53.53%\n",
            "Samples processed: 762\n",
            "BalancedAccuracy: 33.84%\n",
            "CohenKappa: 0.55%\n",
            "WeightedF1: 33.88%\n",
            "Samples processed: 762\n",
            "BalancedAccuracy: 34.52%\n",
            "CohenKappa: 1.50%\n",
            "WeightedF1: 34.59%\n",
            "Samples processed: 762\n",
            "BalancedAccuracy: 34.26%\n",
            "CohenKappa: 1.48%\n",
            "WeightedF1: 34.49%\n"
          ]
        }
      ]
    },
    {
      "cell_type": "code",
      "source": [
        "def portfolio_construction(dic_stocks):\n",
        "  dic_pred = {}\n",
        "  for i in list(dic_stocks.keys())[:-1]:\n",
        "    X = dic_stocks[i][[\"Open\", \"High\", \"Low\", \"Close\", \"Volume\", \"Mid\"]]\n",
        "    Y = pd.Series(np.zeros(len(X)), index=X.index)\n",
        "    low_bound = np.percentile(dic_stocks[i][\"return\"], 35)\n",
        "    high_bound = np.percentile(dic_stocks[i][\"return\"], 65)\n",
        "    knn_results_int, tab_pred_knn_int, tab_y_true_knn_int = evaluate_binary_with_prediction_interval(stream=iter_pandas(X=X, y=Y),\n",
        "                                                                                                    model_binary=knn, models = models, n_wait=n_wait,\n",
        "                                                                                                    low_bound=low_bound, high_bound=high_bound)\n",
        "    dic_pred[i] = tab_pred_knn_int\n",
        "  list_return = []\n",
        "  for day in range(len(dic_pred[list(dic_pred.keys())[0]])):\n",
        "    list_buy = []\n",
        "    for stocks in dic_pred.keys():\n",
        "      if dic_pred[stocks][day] == 2:\n",
        "        list_buy.append(stocks)\n",
        "    n = len(list_buy)\n",
        "    return_day = 0\n",
        "    if n!=0:\n",
        "      for day_stocks in list_buy:\n",
        "        return_day += dic_stocks[day_stocks][\"pred_backtest\"][1+day]\n",
        "      return_day = return_day / n\n",
        "    if n==0:\n",
        "      return_day = 0\n",
        "    list_return.append(return_day)\n",
        "  \n",
        "  return list_return"
      ],
      "metadata": {
        "id": "W9zFCRDd2avH"
      },
      "execution_count": 62,
      "outputs": []
    },
    {
      "cell_type": "code",
      "source": [
        "list_return_portfolio = portfolio_construction(dic_stocks)"
      ],
      "metadata": {
        "colab": {
          "base_uri": "https://localhost:8080/"
        },
        "id": "qOUJ1Zl8NGV-",
        "outputId": "e24897d6-1387-4d4d-f66b-6cdcdf5add77"
      },
      "execution_count": 63,
      "outputs": [
        {
          "output_type": "stream",
          "name": "stdout",
          "text": [
            "Samples processed: 762\n",
            "BalancedAccuracy: 56.64%\n",
            "CohenKappa: 35.66%\n",
            "WeightedF1: 57.17%\n",
            "Samples processed: 762\n",
            "BalancedAccuracy: 51.91%\n",
            "CohenKappa: 28.44%\n",
            "WeightedF1: 52.26%\n",
            "Samples processed: 762\n",
            "BalancedAccuracy: 63.01%\n",
            "CohenKappa: 45.08%\n",
            "WeightedF1: 63.41%\n",
            "Samples processed: 762\n",
            "BalancedAccuracy: 56.06%\n",
            "CohenKappa: 34.54%\n",
            "WeightedF1: 56.39%\n",
            "Samples processed: 762\n",
            "BalancedAccuracy: 54.58%\n",
            "CohenKappa: 33.07%\n",
            "WeightedF1: 55.11%\n",
            "Samples processed: 762\n",
            "BalancedAccuracy: 48.77%\n",
            "CohenKappa: 23.80%\n",
            "WeightedF1: 48.96%\n",
            "Samples processed: 762\n",
            "BalancedAccuracy: 34.89%\n",
            "CohenKappa: 2.15%\n",
            "WeightedF1: 35.06%\n",
            "Samples processed: 762\n",
            "BalancedAccuracy: 42.44%\n",
            "CohenKappa: 14.38%\n",
            "WeightedF1: 42.74%\n"
          ]
        }
      ]
    },
    {
      "cell_type": "code",
      "source": [
        "list_return_cumul = (1 + np.array(list_return_portfolio)).cumprod()"
      ],
      "metadata": {
        "id": "xnDT1uLmNjgs"
      },
      "execution_count": 64,
      "outputs": []
    },
    {
      "cell_type": "code",
      "source": [
        "list_return_cumul_SP500 = (1 + np.array(dic_stocks[\"^GSPC\"][\"pred_backtest\"])).cumprod()"
      ],
      "metadata": {
        "id": "bqG-zazzPpna"
      },
      "execution_count": 65,
      "outputs": []
    },
    {
      "cell_type": "code",
      "source": [
        "list_returns_equal_weighted = []\n",
        "for day in range(len(dic_pred[list(dic_pred.keys())[0]])):\n",
        "  list_daily = []\n",
        "  for i in list(dic_stocks.keys())[:-1]:\n",
        "    list_daily.append(dic_stocks[i][\"return\"][day])\n",
        "  list_returns_equal_weighted.append(np.mean(list_daily))\n"
      ],
      "metadata": {
        "id": "O3OkuLzwjyTj"
      },
      "execution_count": 66,
      "outputs": []
    },
    {
      "cell_type": "code",
      "source": [
        "list_cumul_equal_weighted = (1 + np.array(list_returns_equal_weighted)).cumprod()"
      ],
      "metadata": {
        "id": "Sej-B_cvkklz"
      },
      "execution_count": 67,
      "outputs": []
    },
    {
      "cell_type": "code",
      "source": [
        "plt.plot(list_return_cumul, label='Portfolio cumulative returns')\n",
        "plt.plot(list_return_cumul_SP500, label='S&P 500 cumulative returns')\n",
        "plt.plot(list_cumul_equal_weighted, label='Equal weighted portfolio')\n",
        "plt.legend()\n",
        "plt.grid()"
      ],
      "metadata": {
        "colab": {
          "base_uri": "https://localhost:8080/",
          "height": 265
        },
        "id": "hnyz5mPaPyV7",
        "outputId": "b8b079a0-19d7-47f9-bbfb-4e1b2265b99e"
      },
      "execution_count": 68,
      "outputs": [
        {
          "output_type": "display_data",
          "data": {
            "text/plain": [
              "<Figure size 432x288 with 1 Axes>"
            ],
            "image/png": "[encoded data removed]"
          },
          "metadata": {
            "needs_background": "light"
          }
        }
      ]
    }
  ]
}